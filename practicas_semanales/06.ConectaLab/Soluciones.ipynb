{
 "cells": [
  {
   "cell_type": "markdown",
   "metadata": {},
   "source": [
    "### Polidivisible"
   ]
  },
  {
   "cell_type": "code",
   "execution_count": 1,
   "metadata": {},
   "outputs": [],
   "source": [
    "public class App {\n",
    "    public static boolean isPolidivisible(int number) {\n",
    "        \n",
    "        String numStr = Integer.toString(number);\n",
    "\n",
    "       \n",
    "        for (int i = 1; i <= numStr.length(); i++) {\n",
    "            int digit = Integer.parseInt(numStr.substring(0, i));\n",
    "            if (digit % i != 0) {\n",
    "                return false;\n",
    "            }\n",
    "        }\n",
    "\n",
    "        return true;\n",
    "    }\n",
    "\n",
    "    \n",
    "}\n"
   ]
  },
  {
   "cell_type": "markdown",
   "metadata": {},
   "source": [
    "### App"
   ]
  },
  {
   "cell_type": "code",
   "execution_count": 4,
   "metadata": {},
   "outputs": [
    {
     "name": "stdout",
     "output_type": "stream",
     "text": [
      "102 es polidivisible.\r\n"
     ]
    }
   ],
   "source": [
    "\n",
    "int num = 102;\n",
    "if (App.isPolidivisible(num)) {\n",
    "    System.out.println(num + \" es polidivisible.\");\n",
    "} else {\n",
    "    System.out.println(num + \" no es polidivisible.\");\n",
    "}\n"
   ]
  },
  {
   "cell_type": "markdown",
   "metadata": {},
   "source": [
    "### Palíndromo"
   ]
  },
  {
   "cell_type": "code",
   "execution_count": null,
   "metadata": {},
   "outputs": [],
   "source": [
    "public class Palindromo {\n",
    "    public static String reverse(String input) {\n",
    "        String cadena = \"radar\";\n",
    "        char [] array = cadena.toCharArray();\n",
    "        int longitud = array.length;\n",
    "        String cadena_reversed = \"\";\n",
    "        for (int i = 0;  i < longitud; i++)\n",
    "        {\n",
    "        cadena_reversed += array[longitud - i - 1];\n",
    "        }\n",
    "\n",
    "        System.out.println(cadena_reversed);\n",
    "        return cadena_reversed;\n",
    "    }\n",
    "    public static boolean esPalindromo(String cadena)\n",
    "    {\n",
    "    if (cadena.equals(reverse(cadena)))\n",
    "    {\n",
    "    return true;\n",
    "    }else{\n",
    "    return false;\n",
    "    }\n",
    "    \n",
    "    }\n",
    "\n",
    "   \n",
    "}\n"
   ]
  },
  {
   "cell_type": "markdown",
   "metadata": {},
   "source": [
    "### App"
   ]
  },
  {
   "cell_type": "markdown",
   "metadata": {},
   "source": [
    "String cadena = \"radar\";\n",
    "\n",
    "if (Palindromo.esPalindromo(cadena))\n",
    "{\n",
    "System.out.println(cadena + \" es un palíndromo\");\n",
    "}else{\n",
    "System.out.println(cadena + \" no es un palídromo\");\n",
    "}\n",
    "   \n",
    "\n"
   ]
  },
  {
   "cell_type": "markdown",
   "metadata": {},
   "source": [
    "### Java Goldbach"
   ]
  },
  {
   "cell_type": "code",
   "execution_count": 2,
   "metadata": {},
   "outputs": [],
   "source": [
    "import java.util.HashSet;\n",
    "\n",
    "public class Goldbach {\n",
    "    \n",
    "    public static boolean esPrimo(int num) {\n",
    "        if (num <= 1) {\n",
    "            return false;\n",
    "        }\n",
    "        for (int i = 2; i <= Math.sqrt(num); i++) {\n",
    "            if (num % i == 0) {\n",
    "                return false;\n",
    "            }\n",
    "        }\n",
    "        return true;\n",
    "    }\n",
    "    \n",
    "  public static void goldbachDebil(int numero) {\n",
    "        HashSet<Integer> primosUtilizados = new HashSet<>();\n",
    "\n",
    "        for (int i = 0; i < numero; i++) {\n",
    "            if (esPrimo(i)) {\n",
    "                int posible_primo1 = i;\n",
    "                int posible_primo2 = numero - posible_primo1;\n",
    "\n",
    "                if (esPrimo(posible_primo2) && !primosUtilizados.contains(posible_primo2)) {\n",
    "                    primosUtilizados.add(posible_primo1);\n",
    "                    primosUtilizados.add(posible_primo2);\n",
    "                    System.out.println(posible_primo1 + \" + \" + posible_primo2 + \" = \" + numero);\n",
    "                }\n",
    "            }\n",
    "        }\n",
    "    }\n",
    "}"
   ]
  },
  {
   "cell_type": "markdown",
   "metadata": {},
   "source": [
    "### App"
   ]
  },
  {
   "cell_type": "code",
   "execution_count": 4,
   "metadata": {},
   "outputs": [
    {
     "name": "stdout",
     "output_type": "stream",
     "text": [
      "5 + 19 = 24\n",
      "7 + 17 = 24\n",
      "11 + 13 = 24\n"
     ]
    }
   ],
   "source": [
    "int numero = 18;\n",
    "Goldbach.goldbachDebil(24);\n"
   ]
  },
  {
   "cell_type": "markdown",
   "metadata": {},
   "source": [
    "### Arbol.java"
   ]
  },
  {
   "cell_type": "code",
   "execution_count": 23,
   "metadata": {},
   "outputs": [],
   "source": [
    "public class Arbol\n",
    "{\n",
    "    public static void crear(int ancho, int pisos, String caracteres)\n",
    "    {\n",
    "        ancho++;\n",
    "        int anchoMax = ancho * pisos;\n",
    "\n",
    "        for(int i=0;i<pisos;i++)\n",
    "        {\n",
    "            for(int size=1;size<ancho;size++)\n",
    "            {\n",
    "                for(int rama=0;rama<(anchoMax - size);rama++)\n",
    "                    System.out.print(\" \");\n",
    "                    \n",
    "                for(int rama=0;rama<size;rama++)\n",
    "                    System.out.print(caracteres);\n",
    "\n",
    "                System.out.println();\n",
    "            }\n",
    "            ancho += 2;\n",
    "        }\n",
    "    }\n",
    "}"
   ]
  },
  {
   "cell_type": "code",
   "execution_count": 22,
   "metadata": {},
   "outputs": [
    {
     "name": "stdout",
     "output_type": "stream",
     "text": [
      "                 **\n",
      "                ****\n",
      "               ******\n",
      "              ********\n",
      "             **********\n",
      "                 **\n",
      "                ****\n",
      "               ******\n",
      "              ********\n",
      "             **********\n",
      "            ************\n",
      "           **************\n",
      "                 **\n",
      "                ****\n",
      "               ******\n",
      "              ********\n",
      "             **********\n",
      "            ************\n",
      "           **************\n",
      "          ****************\n",
      "         ******************\n"
     ]
    }
   ],
   "source": [
    "Arbol.crear(5, 3, \"**\");"
   ]
  },
  {
   "cell_type": "markdown",
   "metadata": {},
   "source": [
    "### Número Pi"
   ]
  },
  {
   "cell_type": "code",
   "execution_count": 1,
   "metadata": {},
   "outputs": [],
   "source": [
    "class App\n",
    "{\n",
    "    static double calculoPIMontecarlo(long iteraciones)\n",
    "    {\n",
    "        double x;\n",
    "        double y;\n",
    "        int exito = 0;\n",
    "        for (int i=0;i<iteraciones;i++)\n",
    "        {\n",
    "            x = Math.random();\n",
    "            y = Math.random();\n",
    "            if ((Math.pow(x, 2) + Math.pow(y, 2)) <= 1)\n",
    "                exito++;\n",
    "        }\n",
    "        return (double) (4*exito)/iteraciones;\n",
    "    }  \n",
    "}"
   ]
  },
  {
   "cell_type": "code",
   "execution_count": 2,
   "metadata": {},
   "outputs": [
    {
     "name": "stdout",
     "output_type": "stream",
     "text": [
      "0.0, 0, 1ms, 3.141592653589793 error\n",
      "3.2, 1, 0ms, 0.05840734641020706 error\n",
      "3.16, 2, 0ms, 0.018407346410207026 error\n",
      "3.152, 3, 1ms, 0.010407346410207019 error\n",
      "3.1456, 4, 3ms, 0.004007346410206836 error\n",
      "3.14224, 5, 17ms, 6.473464102070281E-4 error\n",
      "3.141712, 6, 81ms, 1.1934641020694414E-4 error\n",
      "3.1406428, 7, 773ms, 9.498535897929372E-4 error\n",
      "3.1417718, 8, 7347ms, 1.7914641020677635E-4 error\n"
     ]
    }
   ],
   "source": [
    "\n",
    "for(int iteraciones=0; iteraciones<9; iteraciones++)\n",
    "{\n",
    "    long tiempo0 = new Date().getTime();\n",
    "    double pi = App.calculoPIMontecarlo((long) Math.pow(10, iteraciones));\n",
    "    long tiempo1 = new Date().getTime();\n",
    "    System.out.println(pi + \", \" + iteraciones + \", \" + (tiempo1 - tiempo0) + \"ms, \" +  Math.abs(Math.PI - pi) + \" error\");\n",
    "}\n"
   ]
  }
 ],
 "metadata": {
  "kernelspec": {
   "display_name": "Java",
   "language": "java",
   "name": "java"
  },
  "language_info": {
   "codemirror_mode": "java",
   "file_extension": ".jshell",
   "mimetype": "text/x-java-source",
   "name": "Java",
   "pygments_lexer": "java",
   "version": "19.0.2+7-44"
  }
 },
 "nbformat": 4,
 "nbformat_minor": 4
}
